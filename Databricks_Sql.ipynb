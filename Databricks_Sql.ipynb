{
 "cells": [
  {
   "cell_type": "code",
   "execution_count": 0,
   "metadata": {
    "application/vnd.databricks.v1+cell": {
     "cellMetadata": {},
     "inputWidgets": {},
     "nuid": "f5d3ba60-17dd-41dd-9413-79788ba6b9f6",
     "showTitle": false,
     "tableResultSettingsMap": {},
     "title": ""
    }
   },
   "outputs": [],
   "source": [
    "                                                    #    Join Operations for Students data"
   ]
  },
  {
   "cell_type": "code",
   "execution_count": 0,
   "metadata": {
    "application/vnd.databricks.v1+cell": {
     "cellMetadata": {
      "byteLimit": 2048000,
      "rowLimit": 10000
     },
     "inputWidgets": {},
     "nuid": "cf017c27-6cd5-4cba-8eec-73cbe47fc112",
     "showTitle": false,
     "tableResultSettingsMap": {},
     "title": ""
    }
   },
   "outputs": [],
   "source": [
    "from pyspark.sql import SparkSession\n",
    "import getpass\n",
    "username = getpass.getuser()\n",
    "spark = SparkSession. \\\n",
    "builder. \\\n",
    "config('spark.ui.port', '0'). \\\n",
    "config(\"spark.sql.warehouse.dir\", f\"/user/{username}/warehouse\"). \\\n",
    "enableHiveSupport(). \\\n",
    "getOrCreate()"
   ]
  },
  {
   "cell_type": "code",
   "execution_count": 0,
   "metadata": {
    "application/vnd.databricks.v1+cell": {
     "cellMetadata": {
      "byteLimit": 2048000,
      "rowLimit": 10000
     },
     "inputWidgets": {},
     "nuid": "821e87f4-bed5-40ff-9433-cfb4c972c0a0",
     "showTitle": false,
     "tableResultSettingsMap": {},
     "title": ""
    }
   },
   "outputs": [
    {
     "output_type": "stream",
     "name": "stdout",
     "output_type": "stream",
     "text": [
      "+----------+-------+-----+------------+\n|student_id|name   |grade|major       |\n+----------+-------+-----+------------+\n|1         |John   |A    |Computer Sci|\n|2         |Sarah  |B    |Math        |\n|3         |William|C    |Physics     |\n|4         |Emma   |A    |Biology     |\n|5         |Olivia |B    |Chemistry   |\n+----------+-------+-----+------------+\n\n"
     ]
    }
   ],
   "source": [
    "# Sample data\n",
    "students = [\n",
    "    (1, \"John\", \"A\", \"Computer Sci\"),\n",
    "    (2, \"Sarah\", \"B\", \"Math\"),\n",
    "    (3, \"William\", \"C\", \"Physics\"),\n",
    "    (4, \"Emma\", \"A\", \"Biology\"),\n",
    "    (5, \"Olivia\", \"B\", \"Chemistry\")]\n",
    "\n",
    "students_df = spark.createDataFrame(students, [\"student_id\", \"name\", \"grade\", \"major\"])\n",
    "students_df.show(n=students_df.count(), truncate =False)"
   ]
  },
  {
   "cell_type": "code",
   "execution_count": 0,
   "metadata": {
    "application/vnd.databricks.v1+cell": {
     "cellMetadata": {
      "byteLimit": 2048000,
      "rowLimit": 10000
     },
     "inputWidgets": {},
     "nuid": "e0326abe-de08-4861-b63c-ca65dd3e4235",
     "showTitle": false,
     "tableResultSettingsMap": {},
     "title": ""
    }
   },
   "outputs": [
    {
     "output_type": "stream",
     "name": "stdout",
     "output_type": "stream",
     "text": [
      "+--------------+----------+--------------------+------+\n|scholarship_id|student_id|scholarship_name    |amount|\n+--------------+----------+--------------------+------+\n|501           |1         |Tech Excellence     |2000  |\n|502           |3         |Science Genius Award|2000  |\n|503           |5         |Chemistry Scholars  |2000  |\n|504           |6         |Math Stars Program  |2000  |\n+--------------+----------+--------------------+------+\n\n"
     ]
    }
   ],
   "source": [
    "# Dataset 2: Scholarships\n",
    "scholarships = [\n",
    "  (501, 1, \"Tech Excellence\", 2000),\n",
    "  (502, 3, \"Science Genius Award\", 2000),\n",
    "  (503, 5, \"Chemistry Scholars\", 2000),\n",
    "  (504, 6, \"Math Stars Program\", 2000),\n",
    "]\n",
    "# Create a Dataframe with Scholarship data as well\n",
    "scholarships_df = spark.createDataFrame(scholarships, [\"scholarship_id\", \"student_id\", \"scholarship_name\", \"amount\"])\n",
    "scholarships_df.show(n = scholarships_df.count(), truncate =False)"
   ]
  },
  {
   "cell_type": "markdown",
   "metadata": {
    "application/vnd.databricks.v1+cell": {
     "cellMetadata": {
      "byteLimit": 2048000,
      "rowLimit": 10000
     },
     "inputWidgets": {},
     "nuid": "09a78774-08a6-4d25-ab90-e8fc843ec033",
     "showTitle": false,
     "tableResultSettingsMap": {},
     "title": ""
    }
   },
   "source": [
    "- > Lets Begin Transformations from here"
   ]
  },
  {
   "cell_type": "code",
   "execution_count": 0,
   "metadata": {
    "application/vnd.databricks.v1+cell": {
     "cellMetadata": {
      "byteLimit": 2048000,
      "rowLimit": 10000
     },
     "inputWidgets": {},
     "nuid": "a55dd3a8-40ca-4bce-9360-45befd70d907",
     "showTitle": false,
     "tableResultSettingsMap": {},
     "title": ""
    }
   },
   "outputs": [
    {
     "output_type": "stream",
     "name": "stdout",
     "output_type": "stream",
     "text": [
      "+----------+-------+-----+------------+--------------+--------------------+------+\n|student_id|   name|grade|       major|scholarship_id|    scholarship_name|amount|\n+----------+-------+-----+------------+--------------+--------------------+------+\n|         1|   John|    A|Computer Sci|           501|     Tech Excellence|  2000|\n|         3|William|    C|     Physics|           502|Science Genius Award|  2000|\n|         5| Olivia|    B|   Chemistry|           503|  Chemistry Scholars|  2000|\n+----------+-------+-----+------------+--------------+--------------------+------+\n\n"
     ]
    }
   ],
   "source": [
    "# Performing inner join \n",
    "# (Includes only matching rows from both DataFrames)\n",
    "\n",
    "inner_join_df = students_df.join(scholarships_df, on = \"student_id\", how = \"inner\")\n",
    "inner_join_df.show()"
   ]
  },
  {
   "cell_type": "code",
   "execution_count": 0,
   "metadata": {
    "application/vnd.databricks.v1+cell": {
     "cellMetadata": {
      "byteLimit": 2048000,
      "rowLimit": 10000
     },
     "inputWidgets": {},
     "nuid": "36410bd0-eb55-4758-8b41-f42e28ed6abc",
     "showTitle": false,
     "tableResultSettingsMap": {},
     "title": ""
    }
   },
   "outputs": [
    {
     "output_type": "stream",
     "name": "stdout",
     "output_type": "stream",
     "text": [
      "+----------+-------+-----+------------+--------------+--------------------+------+\n|student_id|   name|grade|       major|scholarship_id|    scholarship_name|amount|\n+----------+-------+-----+------------+--------------+--------------------+------+\n|         1|   John|    A|Computer Sci|           501|     Tech Excellence|  2000|\n|         2|  Sarah|    B|        Math|          null|                null|  null|\n|         3|William|    C|     Physics|           502|Science Genius Award|  2000|\n|         4|   Emma|    A|     Biology|          null|                null|  null|\n|         5| Olivia|    B|   Chemistry|           503|  Chemistry Scholars|  2000|\n+----------+-------+-----+------------+--------------+--------------------+------+\n\n"
     ]
    }
   ],
   "source": [
    "# Left Outer join\n",
    "# (Includes all rows from the left dataframe and matching rows from the right)\n",
    "\n",
    "left_join_df = students_df.join(scholarships_df, on = \"student_id\", how=\"left\")\n",
    "left_join_df.show()"
   ]
  },
  {
   "cell_type": "code",
   "execution_count": 0,
   "metadata": {
    "application/vnd.databricks.v1+cell": {
     "cellMetadata": {
      "byteLimit": 2048000,
      "rowLimit": 10000
     },
     "inputWidgets": {},
     "nuid": "304ef67f-ea19-4521-8b5b-186eab4cf80e",
     "showTitle": false,
     "tableResultSettingsMap": {},
     "title": ""
    }
   },
   "outputs": [
    {
     "output_type": "stream",
     "name": "stdout",
     "output_type": "stream",
     "text": [
      "+----------+-------+-----+------------+--------------+--------------------+------+\n|student_id|   name|grade|       major|scholarship_id|    scholarship_name|amount|\n+----------+-------+-----+------------+--------------+--------------------+------+\n|         1|   John|    A|Computer Sci|           501|     Tech Excellence|  2000|\n|         3|William|    C|     Physics|           502|Science Genius Award|  2000|\n|         5| Olivia|    B|   Chemistry|           503|  Chemistry Scholars|  2000|\n|         6|   null| null|        null|           504|  Math Stars Program|  2000|\n+----------+-------+-----+------------+--------------+--------------------+------+\n\n"
     ]
    }
   ],
   "source": [
    "# Right Outer Join ()\n",
    "# (Includes all rows from the right DataFrame and matching rows from the left)\n",
    "right_join_df = students_df.join(scholarships_df, on = \"student_id\", how = \"right\")\n",
    "right_join_df.show()\n"
   ]
  },
  {
   "cell_type": "code",
   "execution_count": 0,
   "metadata": {
    "application/vnd.databricks.v1+cell": {
     "cellMetadata": {
      "byteLimit": 2048000,
      "rowLimit": 10000
     },
     "inputWidgets": {},
     "nuid": "60ab0de2-6d46-453d-be8a-d1b9a5f9cfe7",
     "showTitle": false,
     "tableResultSettingsMap": {},
     "title": ""
    }
   },
   "outputs": [
    {
     "output_type": "stream",
     "name": "stdout",
     "output_type": "stream",
     "text": [
      "+----------+-------+-----+------------+--------------+--------------------+------+\n|student_id|   name|grade|       major|scholarship_id|    scholarship_name|amount|\n+----------+-------+-----+------------+--------------+--------------------+------+\n|         1|   John|    A|Computer Sci|           501|     Tech Excellence|  2000|\n|         2|  Sarah|    B|        Math|          null|                null|  null|\n|         3|William|    C|     Physics|           502|Science Genius Award|  2000|\n|         4|   Emma|    A|     Biology|          null|                null|  null|\n|         5| Olivia|    B|   Chemistry|           503|  Chemistry Scholars|  2000|\n|         6|   null| null|        null|           504|  Math Stars Program|  2000|\n+----------+-------+-----+------------+--------------+--------------------+------+\n\n"
     ]
    }
   ],
   "source": [
    "# Full Outer join\n",
    "# (Includes all rows from both dataframes with nulls where there are no matches)\n",
    "full_join_df = students_df.join(scholarships_df,\n",
    "                                on =\"student_id\",\n",
    "                                how = \"outer\")\n",
    "full_join_df.show()"
   ]
  },
  {
   "cell_type": "code",
   "execution_count": 0,
   "metadata": {
    "application/vnd.databricks.v1+cell": {
     "cellMetadata": {
      "byteLimit": 2048000,
      "rowLimit": 10000
     },
     "inputWidgets": {},
     "nuid": "8b406ccc-5a5c-4a2f-889c-23d094568df9",
     "showTitle": false,
     "tableResultSettingsMap": {},
     "title": ""
    }
   },
   "outputs": [],
   "source": []
  },
  {
   "cell_type": "code",
   "execution_count": 0,
   "metadata": {
    "application/vnd.databricks.v1+cell": {
     "cellMetadata": {
      "byteLimit": 2048000,
      "rowLimit": 10000
     },
     "inputWidgets": {},
     "nuid": "d1ad33b6-64f2-4d75-afd4-db3abd38578b",
     "showTitle": false,
     "tableResultSettingsMap": {},
     "title": ""
    }
   },
   "outputs": [],
   "source": []
  },
  {
   "cell_type": "code",
   "execution_count": 0,
   "metadata": {
    "application/vnd.databricks.v1+cell": {
     "cellMetadata": {
      "byteLimit": 2048000,
      "rowLimit": 10000
     },
     "inputWidgets": {},
     "nuid": "49bbae92-5d2f-4985-9769-a59ac40bef11",
     "showTitle": false,
     "tableResultSettingsMap": {},
     "title": ""
    }
   },
   "outputs": [],
   "source": []
  },
  {
   "cell_type": "code",
   "execution_count": 0,
   "metadata": {
    "application/vnd.databricks.v1+cell": {
     "cellMetadata": {
      "byteLimit": 2048000,
      "rowLimit": 10000
     },
     "inputWidgets": {},
     "nuid": "5b0f091d-ead4-491d-b32f-3d6feba74ee3",
     "showTitle": false,
     "tableResultSettingsMap": {},
     "title": ""
    }
   },
   "outputs": [],
   "source": []
  },
  {
   "cell_type": "code",
   "execution_count": 0,
   "metadata": {
    "application/vnd.databricks.v1+cell": {
     "cellMetadata": {
      "byteLimit": 2048000,
      "rowLimit": 10000
     },
     "inputWidgets": {},
     "nuid": "04937835-0cb4-4329-86ae-7736b88ae99e",
     "showTitle": false,
     "tableResultSettingsMap": {},
     "title": ""
    }
   },
   "outputs": [],
   "source": []
  },
  {
   "cell_type": "code",
   "execution_count": 0,
   "metadata": {
    "application/vnd.databricks.v1+cell": {
     "cellMetadata": {
      "byteLimit": 2048000,
      "rowLimit": 10000
     },
     "inputWidgets": {},
     "nuid": "b91c30a7-4adf-41e2-b73a-e08cec612ac7",
     "showTitle": false,
     "tableResultSettingsMap": {},
     "title": ""
    }
   },
   "outputs": [],
   "source": []
  },
  {
   "cell_type": "code",
   "execution_count": 0,
   "metadata": {
    "application/vnd.databricks.v1+cell": {
     "cellMetadata": {
      "byteLimit": 2048000,
      "rowLimit": 10000
     },
     "inputWidgets": {},
     "nuid": "21f72b1d-6ea2-41b4-b5d4-52376301d50a",
     "showTitle": false,
     "tableResultSettingsMap": {},
     "title": ""
    }
   },
   "outputs": [],
   "source": []
  },
  {
   "cell_type": "code",
   "execution_count": 0,
   "metadata": {
    "application/vnd.databricks.v1+cell": {
     "cellMetadata": {
      "byteLimit": 2048000,
      "rowLimit": 10000
     },
     "inputWidgets": {},
     "nuid": "5eb0f19c-959d-4aad-84be-3165a3110cc3",
     "showTitle": false,
     "tableResultSettingsMap": {},
     "title": ""
    }
   },
   "outputs": [],
   "source": []
  },
  {
   "cell_type": "code",
   "execution_count": 0,
   "metadata": {
    "application/vnd.databricks.v1+cell": {
     "cellMetadata": {
      "byteLimit": 2048000,
      "rowLimit": 10000
     },
     "inputWidgets": {},
     "nuid": "fabc72ad-a55a-42c5-a7d8-288868792998",
     "showTitle": false,
     "tableResultSettingsMap": {},
     "title": ""
    }
   },
   "outputs": [],
   "source": []
  },
  {
   "cell_type": "code",
   "execution_count": 0,
   "metadata": {
    "application/vnd.databricks.v1+cell": {
     "cellMetadata": {
      "byteLimit": 2048000,
      "rowLimit": 10000
     },
     "inputWidgets": {},
     "nuid": "53c2f0cb-1e65-4dee-9603-ac09823d9762",
     "showTitle": false,
     "tableResultSettingsMap": {},
     "title": ""
    }
   },
   "outputs": [],
   "source": []
  },
  {
   "cell_type": "code",
   "execution_count": 0,
   "metadata": {
    "application/vnd.databricks.v1+cell": {
     "cellMetadata": {
      "byteLimit": 2048000,
      "rowLimit": 10000
     },
     "inputWidgets": {},
     "nuid": "fbbdc494-10f4-48b5-9816-22a6c1fb72ae",
     "showTitle": false,
     "tableResultSettingsMap": {},
     "title": ""
    }
   },
   "outputs": [],
   "source": []
  },
  {
   "cell_type": "code",
   "execution_count": 0,
   "metadata": {
    "application/vnd.databricks.v1+cell": {
     "cellMetadata": {
      "byteLimit": 2048000,
      "rowLimit": 10000
     },
     "inputWidgets": {},
     "nuid": "23e322e6-9fe3-4eb4-a270-5b5728defc6a",
     "showTitle": false,
     "tableResultSettingsMap": {},
     "title": ""
    }
   },
   "outputs": [],
   "source": []
  },
  {
   "cell_type": "code",
   "execution_count": 0,
   "metadata": {
    "application/vnd.databricks.v1+cell": {
     "cellMetadata": {
      "byteLimit": 2048000,
      "rowLimit": 10000
     },
     "inputWidgets": {},
     "nuid": "14576743-1aa2-49ae-a7e8-fd0decc90913",
     "showTitle": false,
     "tableResultSettingsMap": {},
     "title": ""
    }
   },
   "outputs": [],
   "source": []
  },
  {
   "cell_type": "code",
   "execution_count": 0,
   "metadata": {
    "application/vnd.databricks.v1+cell": {
     "cellMetadata": {
      "byteLimit": 2048000,
      "rowLimit": 10000
     },
     "inputWidgets": {},
     "nuid": "fffd27b5-aa2c-4a3b-93af-9ac44334eb19",
     "showTitle": false,
     "tableResultSettingsMap": {},
     "title": ""
    }
   },
   "outputs": [],
   "source": []
  },
  {
   "cell_type": "code",
   "execution_count": 0,
   "metadata": {
    "application/vnd.databricks.v1+cell": {
     "cellMetadata": {
      "byteLimit": 2048000,
      "rowLimit": 10000
     },
     "inputWidgets": {},
     "nuid": "47567bcf-a5de-4408-a90f-d7279fd2dc4f",
     "showTitle": false,
     "tableResultSettingsMap": {},
     "title": ""
    }
   },
   "outputs": [],
   "source": []
  }
 ],
 "metadata": {
  "application/vnd.databricks.v1+notebook": {
   "computePreferences": null,
   "dashboards": [
    {
     "elements": [
      {
       "dashboardResultIndex": null,
       "elementNUID": "09a78774-08a6-4d25-ab90-e8fc843ec033",
       "elementType": "command",
       "guid": "25614972-a124-4118-9520-12d4660012c8",
       "options": null,
       "position": null,
       "resultIndex": null
      }
     ],
     "globalVars": {},
     "guid": "",
     "layoutOption": {
      "grid": true,
      "stack": true
     },
     "nuid": "f24d2cd5-32ec-4709-ba6c-21186ae3d8c4",
     "origId": 3016372647516509,
     "title": "Untitled",
     "version": "DashboardViewV1",
     "width": 1024
    }
   ],
   "environmentMetadata": {
    "base_environment": "",
    "client": "1"
   },
   "language": "python",
   "notebookMetadata": {
    "pythonIndentUnit": 4
   },
   "notebookName": "Databricks_Sql",
   "widgets": {}
  }
 },
 "nbformat": 4,
 "nbformat_minor": 0
}
